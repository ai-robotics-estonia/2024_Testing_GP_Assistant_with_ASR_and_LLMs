{
 "cells": [
  {
   "cell_type": "markdown",
   "metadata": {},
   "source": [
    "# Create transcripts with whisper-medium-et"
   ]
  },
  {
   "cell_type": "code",
   "execution_count": null,
   "metadata": {},
   "outputs": [],
   "source": [
    "import torch\n",
    "import os\n",
    "import librosa\n",
    "from transformers import AutoProcessor, AutoModelForSpeechSeq2Seq\n",
    "\n",
    "# Load the processor and model\n",
    "processor = AutoProcessor.from_pretrained(\"TalTechNLP/whisper-medium-et\")\n",
    "model = AutoModelForSpeechSeq2Seq.from_pretrained(\"TalTechNLP/whisper-medium-et\")"
   ]
  },
  {
   "cell_type": "code",
   "execution_count": null,
   "metadata": {},
   "outputs": [],
   "source": [
    "torch.cuda.empty_cache()"
   ]
  },
  {
   "cell_type": "code",
   "execution_count": null,
   "metadata": {},
   "outputs": [],
   "source": [
    "print(torch.cuda.is_available())\n",
    "print(torch.cuda.get_device_name(0))\n",
    "torch.cuda.empty_cache()\n",
    "device = torch.device(\"cuda\" if torch.cuda.is_available() else \"cpu\")\n",
    "model = model.to(device)\n",
    "print(model.device)"
   ]
  },
  {
   "cell_type": "code",
   "execution_count": null,
   "metadata": {},
   "outputs": [],
   "source": [
    "#teeme directory\n",
    "def create_directory(path, folder_name):\n",
    "    \"\"\"\n",
    "    Creates a directory with the given folder_name in the specified path.\n",
    "\n",
    "    Parameters:\n",
    "    path (str): The base path where the directory should be created (can be relative).\n",
    "    folder_name (str): The name of the directory to create.\n",
    "    \"\"\"\n",
    "    # Construct the full directory path\n",
    "    full_path = os.path.join(path, folder_name)\n",
    "    # Create the directory\n",
    "    try:\n",
    "        os.makedirs(full_path, exist_ok=True)\n",
    "        print(f\"Directory '{full_path}' created successfully.\")\n",
    "    except PermissionError:\n",
    "        print(f\"Permission denied: Unable to create '{full_path}'.\")\n",
    "    except Exception as e:\n",
    "        print(f\"An error occurred: {e}\")\n",
    "\n",
    "def create_transcript(input_audio_path, output_file_name):\n",
    "    # Load audio and split into chunks (example: 20-second chunks)\n",
    "    audio, sr = librosa.load(input_audio_path, sr=16000)\n",
    "    chunk_duration = 20  # in seconds\n",
    "    chunk_size = chunk_duration * sr  # Convert to samples\n",
    "    \n",
    "    # Split audio into chunks\n",
    "    chunks = [audio[i:i + chunk_size] for i in range(0, len(audio), chunk_size)]\n",
    "    \n",
    "    print(f\"Number of chunks {len(chunks)}\")\n",
    "    f = open(output_file_name, \"w\")\n",
    "    transcription = list()\n",
    "    \n",
    "    # Transcribe each chunk\n",
    "    \n",
    "    for i, chunk in enumerate(chunks):\n",
    "        if i % 10 == 0:\n",
    "            print(f\"Processing chunk {i}...\")\n",
    "        inputs = processor(chunk, return_tensors=\"pt\", sampling_rate=sr).to(device)\n",
    "        with torch.no_grad():\n",
    "            generated_ids = model.generate(inputs[\"input_features\"])\n",
    "        transcription_chunk = processor.batch_decode(generated_ids, skip_special_tokens=True)[0]\n",
    "        transcription.append(transcription_chunk)\n",
    "        f.write(transcription_chunk+\" \")\n",
    "    f.close()\n",
    "    print(\"Transcript complete\") "
   ]
  },
  {
   "cell_type": "markdown",
   "metadata": {},
   "source": [
    "### Create transcripts without voice change"
   ]
  },
  {
   "cell_type": "code",
   "execution_count": null,
   "metadata": {},
   "outputs": [],
   "source": [
    "for doctor_index in range(2,5):\n",
    "    for patient_index in range(1,11):\n",
    "        print(doctor_index, patient_index)\n",
    "        audiofile = f\"Arst_{doctor_index:03}/Patsient_{patient_index:03}/toorfailid/arsti_salvestus_orig_{doctor_index:02}_{patient_index:02}.WAV\"\n",
    "        save_path = f\"whisper_medium_et_transcripts/arsti_salvestus_orig_{doctor_index:02}_{patient_index:02}-whisper-medium-et-transcript.txt\"\n",
    "        create_transcript(audiofile, save_path)"
   ]
  },
  {
   "cell_type": "markdown",
   "metadata": {},
   "source": [
    "### Create transcripts with voice change"
   ]
  },
  {
   "cell_type": "code",
   "execution_count": null,
   "metadata": {},
   "outputs": [],
   "source": [
    "for doctor_index in range(4,5):\n",
    "    for patient_index in range(1,11):\n",
    "        print(doctor_index, patient_index)\n",
    "        rates = [0.8, 1.2]\n",
    "        steps = [2, -2]\n",
    "        for i in range(2):\n",
    "            print(steps[i],rates[i])\n",
    "            audiofile = f\"modified_audio/arsti_salvestus_orig_{doctor_index:02}_{patient_index:02}-step={steps[i]}-rate={rates[i]}.WAV\"\n",
    "            save_path = f\"whisper_medium_et_transcripts/arsti_salvestus_orig_{doctor_index:02}_{patient_index:02}-step={steps[i]}-rate={rates[i]}-whisper-medium-et-transcript.txt\"\n",
    "            create_transcript(audiofile, save_path)\n",
    "        formants = [0.8, 1.2]\n",
    "        for formant in formants:\n",
    "            print(formant)\n",
    "            audiofile = f\"modified_audio/arsti_salvestus_orig_{doctor_index:02}_{patient_index:02}-formant-shift-ratio={formant}.WAV\"\n",
    "            save_path = f\"whisper_medium_et_transcripts/arsti_salvestus_orig_{doctor_index:02}_{patient_index:02}-formant-shift-ratio={formant}-whisper-medium-et-transcript.txt\"\n",
    "            create_transcript(audiofile, save_path)"
   ]
  }
 ],
 "metadata": {
  "kernelspec": {
   "display_name": "aire-medisoft",
   "language": "python",
   "name": "python3"
  },
  "language_info": {
   "codemirror_mode": {
    "name": "ipython",
    "version": 3
   },
   "file_extension": ".py",
   "mimetype": "text/x-python",
   "name": "python",
   "nbconvert_exporter": "python",
   "pygments_lexer": "ipython3",
   "version": "3.12.6"
  }
 },
 "nbformat": 4,
 "nbformat_minor": 2
}
