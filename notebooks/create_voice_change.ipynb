{
 "cells": [
  {
   "cell_type": "code",
   "execution_count": null,
   "metadata": {},
   "outputs": [],
   "source": [
    "import librosa\n",
    "import librosa.util as lib_util\n",
    "import numpy as np\n",
    "import soundfile as sf\n",
    "import parselmouth\n",
    "import matplotlib.pyplot as plt\n",
    "from parselmouth.praat import call"
   ]
  },
  {
   "cell_type": "markdown",
   "metadata": {},
   "source": [
    "### Pitch and time shift"
   ]
  },
  {
   "cell_type": "code",
   "execution_count": null,
   "metadata": {},
   "outputs": [],
   "source": [
    "for doctor_index in range(1,11):\n",
    "    for patient_index in range(1,11):\n",
    "        print(f\"Processing doctor: {doctor_index}, patient: {patient_index}.\")\n",
    "        audiofile = f\"Arst_{doctor_index:03}/Patsient_{patient_index:03}/toorfailid/arsti_salvestus_orig_{doctor_index:02}_{patient_index:02}.WAV\"\n",
    "        try:\n",
    "            sound, sampling_rate = librosa.load(audiofile, mono=True, sr=16000)\n",
    "        except FileNotFoundError:\n",
    "            print(f\"File not found: {audiofile}. Skipping.\")\n",
    "            continue\n",
    "        except Exception as e:\n",
    "            print(f\"Error loading {audiofile}: {e}. Skipping.\")\n",
    "            continue\n",
    "        rates = [0.8, 1.2]\n",
    "        steps = [2, -2]\n",
    "        for i in range(2):\n",
    "            print(f\"Creating modified audio; pitch shift: {steps[i]}, speed: {rates[i]}.\")\n",
    "            y_shifted = librosa.effects.pitch_shift(sound, sr=sampling_rate, n_steps=steps[i])\n",
    "            y_stretched = librosa.effects.time_stretch(y_shifted, rate=rates[i]) \n",
    "            sf.write(f'modified_audio/arsti_salvestus_orig_{doctor_index:02}_{patient_index:02}-step={steps[i]}-rate={rates[i]}.WAV', y_stretched, sampling_rate)"
   ]
  },
  {
   "cell_type": "markdown",
   "metadata": {},
   "source": [
    "### Formant shift"
   ]
  },
  {
   "cell_type": "code",
   "execution_count": null,
   "metadata": {},
   "outputs": [],
   "source": [
    "def formant_shift_praat(input_audio_path, output_audio_path, formant_shift_ratio=1.1):\n",
    "    \"\"\"\n",
    "    Shift formants using Praat's Change Gender method via Parselmouth.\n",
    "    input_audio_path: Path to the input audio file.\n",
    "    output_audio_path: Path to save the formant-shifted audio.\n",
    "    formant_shift_ratio: Ratio to shift formants. >1 raises formants, <1 lowers formants.\n",
    "    \"\"\"\n",
    "    sound = parselmouth.Sound(input_audio_path)\n",
    "\n",
    "    # Apply the Praat \"Change Gender\" function to shift the formants\n",
    "    shifted_sound = call(sound, \"Change gender\", 1, 70, formant_shift_ratio, 1, 1, 1)\n",
    "    # change gender - (pitch floor, pitch ceil, fromant_shift_ratio, new pitch median, pitch_range_factor, duration_factor)\n",
    "\n",
    "    # We lower the amplitude, so that they won't be clipped off\n",
    "    max_amplitude = max(abs(shifted_sound.values.min()), abs(shifted_sound.values.max()))\n",
    "    scaled_shifted_sound = shifted_sound * (1/max_amplitude)\n",
    "\n",
    "    values = scaled_shifted_sound.values\n",
    "    #print(len(values[0][:64000]))\n",
    "\n",
    "    # Plot the waveform\n",
    "    \"\"\"plt.plot(values[0][:64000])\n",
    "    plt.title(\"Waveform of the Sound\")\n",
    "    plt.xlabel(\"Time (samples)\")\n",
    "    plt.ylabel(\"Amplitude\")\n",
    "    plt.show()\"\"\"\n",
    "\n",
    "    scaled_shifted_sound.save(output_audio_path, 'WAV')"
   ]
  },
  {
   "cell_type": "code",
   "execution_count": null,
   "metadata": {},
   "outputs": [],
   "source": [
    "for doctor_index in range(1,5):\n",
    "    for patient_index in range(1,11):\n",
    "        print(f\"Processing doctor: {doctor_index}, patient: {patient_index}\")\n",
    "        audiofile = f\"Arst_{doctor_index:03}/Patsient_{patient_index:03}/toorfailid/arsti_salvestus_orig_{doctor_index:02}_{patient_index:02}.WAV\"\n",
    "        try:\n",
    "            sound, sampling_rate = librosa.load(audiofile, mono=True, sr=16000)\n",
    "        except FileNotFoundError:\n",
    "            print(f\"File not found: {audiofile}. Skipping.\")\n",
    "            continue\n",
    "        except Exception as e:\n",
    "            print(f\"Error loading file {audiofile}: {e}. Skipping.\")\n",
    "            continue\n",
    "        audiofile_mono = f'Arst_{doctor_index:03}/Patsient_{patient_index:03}/toorfailid/arsti_salvestus_orig_{doctor_index:02}_{patient_index:02}_mono.WAV'\n",
    "        sf.write(audiofile_mono, sound, sampling_rate)\n",
    "        formants = [0.8, 1.2]\n",
    "        for formant in formants:\n",
    "            print(f\"Applying formant shift with ratio: {formant}.\")\n",
    "            formant_shift_praat(audiofile_mono, f'modified_audio/arsti_salvestus_orig_{doctor_index:02}_{patient_index:02}-formant-shift-ratio={formant}.WAV', formant)"
   ]
  }
 ],
 "metadata": {
  "kernelspec": {
   "display_name": "aire-medisoft",
   "language": "python",
   "name": "python3"
  },
  "language_info": {
   "codemirror_mode": {
    "name": "ipython",
    "version": 3
   },
   "file_extension": ".py",
   "mimetype": "text/x-python",
   "name": "python",
   "nbconvert_exporter": "python",
   "pygments_lexer": "ipython3",
   "version": "3.12.6"
  }
 },
 "nbformat": 4,
 "nbformat_minor": 2
}
