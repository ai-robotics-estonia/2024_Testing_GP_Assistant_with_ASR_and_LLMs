{
 "cells": [
  {
   "cell_type": "code",
   "execution_count": null,
   "metadata": {},
   "outputs": [],
   "source": [
    "import bert_score as bert\n",
    "bert.__version__\n",
    "import csv\n",
    "import torch\n",
    "\n",
    "import logging\n",
    "import transformers\n",
    "transformers.tokenization_utils.logger.setLevel(logging.ERROR)\n",
    "transformers.configuration_utils.logger.setLevel(logging.ERROR)\n",
    "transformers.modeling_utils.logger.setLevel(logging.ERROR)\n",
    "\n",
    "import gc\n",
    "\n",
    "torch.cuda.empty_cache()\n",
    "gc.collect()"
   ]
  },
  {
   "cell_type": "code",
   "execution_count": null,
   "metadata": {},
   "outputs": [],
   "source": [
    "model_name = \"microsoft/mdeberta-v3-base\"\n",
    "num_layers = 10\n",
    "\n",
    "#We use the scorer, so we don't have to load the model every time\n",
    "mdeberta_scorer = bert.BERTScorer(model_type=model_name, lang=\"et\", num_layers=num_layers, rescale_with_baseline=False)"
   ]
  },
  {
   "cell_type": "code",
   "execution_count": null,
   "metadata": {},
   "outputs": [],
   "source": [
    "def ReadTxtFileAsOneString(path):\n",
    "    with open(f\"{path}\", \"r\", encoding=\"utf-8\") as file:\n",
    "        txt = file.read().strip().replace(\"\\n\", \" \")    \n",
    "    return txt"
   ]
  },
  {
   "cell_type": "markdown",
   "metadata": {},
   "source": [
    "## Compare AI summary against doctor written summary"
   ]
  },
  {
   "cell_type": "code",
   "execution_count": null,
   "metadata": {},
   "outputs": [],
   "source": [
    "print(\"Comparing\")\n",
    "letters = [\"a\", \"b\", \"c\", \"d\", \"e\", \"f\", \"g\", \"h\", \"i\", \"j\"]\n",
    "\n",
    "csv_filename = \"bertscore_against_doctor_summary_f1_score_10.csv\"\n",
    "\n",
    "with open(csv_filename, mode=\"w\", newline=\"\") as file:\n",
    "    writer = csv.writer(file, delimiter=\"\\t\")\n",
    "    writer.writerow([\"Doctor\", \"Patient\", \n",
    "                        \"Prompt 1\", \"Prompt 1\", \"Prompt 1\", \"Prompt 1\", \"Prompt 1\", \"Prompt 1\", \"Prompt 1\", \"Prompt 1\", \"Prompt 1\", \"Prompt 1\",  \n",
    "                        \"Prompt 2\", \"Prompt 2\", \"Prompt 2\", \"Prompt 2\", \"Prompt 2\", \"Prompt 2\", \"Prompt 2\", \"Prompt 2\", \"Prompt 2\", \"Prompt 2\",   \n",
    "                        \"Prompt 3\", \"Prompt 3\", \"Prompt 3\", \"Prompt 3\", \"Prompt 3\", \"Prompt 3\", \"Prompt 3\", \"Prompt 3\", \"Prompt 3\", \"Prompt 3\",  \n",
    "                        \"Prompt 4\", \"Prompt 4\", \"Prompt 4\", \"Prompt 4\", \"Prompt 4\", \"Prompt 4\", \"Prompt 4\", \"Prompt 4\", \"Prompt 4\", \"Prompt 4\",  \n",
    "                        \"Prompt 5\", \"Prompt 5\", \"Prompt 5\", \"Prompt 5\", \"Prompt 5\", \"Prompt 5\", \"Prompt 5\", \"Prompt 5\", \"Prompt 5\", \"Prompt 5\"])\n",
    "    writer.writerow([\"Doctor\", \"Patient\", \n",
    "                        \"a\", \"b\", \"c\", \"d\", \"e\", \"f\", \"g\", \"h\", \"i\", \"j\",\n",
    "                        \"a\", \"b\", \"c\", \"d\", \"e\", \"f\", \"g\", \"h\", \"i\", \"j\",\n",
    "                        \"a\", \"b\", \"c\", \"d\", \"e\", \"f\", \"g\", \"h\", \"i\", \"j\",\n",
    "                        \"a\", \"b\", \"c\", \"d\", \"e\", \"f\", \"g\", \"h\", \"i\", \"j\",\n",
    "                        \"a\", \"b\", \"c\", \"d\", \"e\", \"f\", \"g\", \"h\", \"i\", \"j\"])\n",
    "\n",
    "for doctor_index in range(1,11):\n",
    "    for patient_index in range(1,11):\n",
    "        print(\"New row\")\n",
    "        row = list()\n",
    "        row.append(doctor_index)\n",
    "        row.append(patient_index)\n",
    "        doctor_summary = ReadTxtFileAsOneString(f\"arst_{doctor_index:03}/patsient_{patient_index:03}/toorfailid/doctor_indexi_kokkuvote_orig_{doctor_index:02}_{patient_index:02}.txt\")\n",
    "        for prompt in range(1,6):\n",
    "            for letter in letters:\n",
    "                generated_summary = ReadTxtFileAsOneString(f\"summaries/arst_{doctor_index}_patsient_{patient_index}/kokkuvõtted/prompt_{prompt}/arst_{doctor_index:02}_patsient_{patient_index:02}_kokkuvõte_prompt_{prompt}_{letter}.txt\")\n",
    "\n",
    "                print(f\"\\nComparing doctor: {doctor_index}, patient: {patient_index}, prompt: {prompt}, letter: {letter}.\")\n",
    "                P, R, F1 = mdeberta_scorer.score([doctor_summary], [generated_summary])\n",
    "                #print(f\"P tensors: {P}\")\n",
    "                #print(f\"R tensors: {R}\")\n",
    "                #print(f\"F1 tensors: {F1}\")\n",
    "\n",
    "                # We are mostly interested in the F1-score\n",
    "                f1_score = F1.item()\n",
    "                print(f\"F1 score: {f1_score:.4f}\")\n",
    "                row.append(round(f1_score, 3))\n",
    "\n",
    "        with open(csv_filename, mode=\"a\", newline=\"\") as file:\n",
    "            writer = csv.writer(file, delimiter=\"\\t\")  # Use tab separator\n",
    "            writer.writerow(row)\n",
    "\n",
    "\n"
   ]
  },
  {
   "cell_type": "code",
   "execution_count": null,
   "metadata": {},
   "outputs": [],
   "source": [
    "import os\n",
    "print(\"Comparing\")\n",
    "\n",
    "\n",
    "csv_filename = \"bertscore_against_doctor_summary_f1_score_clean.csv\"\n",
    "\n",
    "\n",
    "with open(csv_filename, mode=\"w\", newline=\"\") as file:\n",
    "    writer = csv.writer(file, delimiter=\"\\t\")\n",
    "    writer.writerow([\"Doctor\", \"Patient\", \"Prompt 1\", \"Prompt 2\", \"Prompt 3\", \"Prompt 4\", \"Prompt 5\"])\n",
    "\n",
    "\n",
    "for doctor_index in range(5,7):\n",
    "    for patient_index in range(10,11):\n",
    "        print(\"New row\")\n",
    "        row = list()\n",
    "        row.append(doctor_index)\n",
    "        row.append(patient_index)\n",
    "        doctor_summary = ReadTxtFileAsOneString(f\"Arst_{doctor_index:03}/Patsient_{patient_index:03}/toorfailid/arsti_kokkuvote_orig_{doctor_index:02}_{patient_index:02}.txt\")\n",
    "        for prompt in range(1,6):\n",
    "            letter = \"puhas\"\n",
    "            generated_summary_path = f\"summaries/arst_{doctor_index}_patsient_{patient_index}/kokkuvõtted/prompt_{prompt}/arst_{doctor_index:02}_patsient_{patient_index:02}_kokkuvõte_prompt_{prompt}_{letter}.txt\"\n",
    "            \n",
    "            if os.path.exists(generated_summary_path):\n",
    "                generated_summary = ReadTxtFileAsOneString(generated_summary_path)\n",
    "                print(f\"\\nComparing doctor_index {doctor_index}, patient_index {patient_index}, prompt {prompt}, letter {letter}\")\n",
    "                P, R, F1 = mdeberta_scorer.score([doctor_summary], [generated_summary])\n",
    "                #print(f\"P tensors: {P}\")\n",
    "                #print(f\"R tensors: {R}\")\n",
    "                #print(f\"F1 tensors: {F1}\")\n",
    "\n",
    "                f1_score = F1.item()\n",
    "                print(f\"F1 score: {f1_score:.4f}\")\n",
    "                row.append(round(f1_score, 3))\n",
    "            else:\n",
    "                print(\"File not found. Appending 0.\")\n",
    "                row.append(0)\n",
    "\n",
    "        with open(csv_filename, mode=\"a\", newline=\"\") as file:\n",
    "            writer = csv.writer(file, delimiter=\"\\t\")  # Use tab separator\n",
    "            writer.writerow(row)"
   ]
  }
 ],
 "metadata": {
  "kernelspec": {
   "display_name": "aire-medisoft",
   "language": "python",
   "name": "python3"
  },
  "language_info": {
   "codemirror_mode": {
    "name": "ipython",
    "version": 3
   },
   "file_extension": ".py",
   "mimetype": "text/x-python",
   "name": "python",
   "nbconvert_exporter": "python",
   "pygments_lexer": "ipython3",
   "version": "3.12.6"
  }
 },
 "nbformat": 4,
 "nbformat_minor": 2
}
